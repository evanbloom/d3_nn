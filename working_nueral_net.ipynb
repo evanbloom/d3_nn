{
 "metadata": {
  "name": "",
  "signature": "sha256:bbc2b45c8f0d8fb58b13abf28b78df140ff0378f6828da3c7696748e83be7da9"
 },
 "nbformat": 3,
 "nbformat_minor": 0,
 "worksheets": [
  {
   "cells": [
    {
     "cell_type": "code",
     "collapsed": false,
     "input": [
      "import numpy as np\n",
      "import sys\n",
      "np.set_printoptions(threshold=np.nan)\n",
      "\n",
      "def sigmoid(x):\n",
      "  return 1 / (1 + np.exp(-x))\n",
      "\n",
      "def sigmoid_prime(sigmoid_x):\n",
      "  return sigmoid_x*(1-sigmoid_x)\n",
      "\n",
      "def rescale(x):\n",
      "    return 2*x-1\n",
      "\n",
      "def init_network (shape):\n",
      "    \n",
      "    weights = []\n",
      "    for i in range(1,len(shape)):\n",
      "        random_nums =np.random.random(( shape[i],shape[i-1]+1))\n",
      "        weights.append(rescale(random_nums))\n",
      "    return weights\n",
      "\n",
      "def forward_propigate (x, weights):\n",
      "    \n",
      "    nodes= [np.array(x)]\n",
      "    for layer in weights:\n",
      "        \n",
      "        node_vals = sigmoid(np.concatenate([nodes[-1],[1]]).dot(layer.T))\n",
      "        nodes.append(node_vals)\n",
      "        \n",
      "    return nodes\n",
      "\n",
      "def backward_propigate (y, weights, nodes):\n",
      "    deltas = [np.atleast_2d((y - nodes[-1])*sigmoid_prime( nodes[-1]))]\n",
      "    for i in range(len(weights)-1,0,-1):\n",
      "        layer_weights= np.atleast_2d(weights[i]).T \n",
      "        \n",
      "        if i == len(weights)-1:\n",
      "            small_delta = np.atleast_2d(deltas[0]).T\n",
      "        else:\n",
      "            small_delta = np.atleast_2d(deltas[-1])[::,:-1].T\n",
      "\n",
      "        deltas.append(layer_weights.dot(small_delta).T* sigmoid_prime(np.concatenate([nodes[i],[1]])).T)\n",
      "    return deltas[::-1]\n",
      "\n",
      "def update (weights, nodes, deltas, learning_rate):\n",
      "    for i in range(len(weights)):\n",
      "        layer_deltas = np.atleast_2d(deltas[i])\n",
      "        layer_nodes = np.atleast_2d(np.concatenate([nodes[i],[1]]))\n",
      "        dot = learning_rate *layer_deltas.T.dot(layer_nodes)\n",
      "        if i != len(weights) -1:\n",
      "            dot = dot[::][:-1:]\n",
      "\n",
      "        weights[i] += dot  \n",
      "\n",
      "    return weights\n",
      "\n",
      "def fit(X,Y,shape, learning_rate, iterations):\n",
      "    \n",
      "    weights = init_network(shape)\n",
      "    \n",
      "    i = 0 \n",
      "    while True:\n",
      "        train_index = np.random.randint(0,len(X))\n",
      "        x = X[train_index]\n",
      "        y = Y[train_index]\n",
      "        \n",
      "        nodes = forward_propigate (x, weights)\n",
      "        deltas = backward_propigate (y, weights, nodes)\n",
      "        weights = update(weights, nodes, deltas, learning_rate)\n",
      "        i +=1\n",
      "        \n",
      "        \n",
      "        if i % (iterations/10) == 0:\n",
      "            print \"epoch: {0}\".format(i)\n",
      "            sys.stdout.flush()\n",
      "        \n",
      "        if i == iterations:\n",
      "            break\n",
      "    return weights\n",
      "\n",
      "def predict (X,Y,weights):\n",
      "    for i in range(len (X)):\n",
      "        x = X[i]\n",
      "        y = Y[i]\n",
      "        result = forward_propigate (x, weights)[-1]\n",
      "        print \"x: {0}, y: {1}, predicted_value: {2}\".format(x, y, result)\n",
      "        \n",
      "        \n",
      "def confusion (X,Y, weights):\n",
      "    confusion = np.zeros((len(Y[0]),len(Y[0])))\n",
      "    for i in range(len (X)):\n",
      "        x = X[i]\n",
      "        y = Y[i]\n",
      "        result = forward_propigate (x, weights)[-1]\n",
      "        classify = np.argmax(result)\n",
      "        actual = np.argmax(y)\n",
      "        confusion[actual,classify] += 1\n",
      "    total = confusion.sum()\n",
      "    correct = np.diagonal(confusion).sum()\n",
      "    accuracy = correct/total*1.0\n",
      "    return confusion, (total, correct, accuracy)\n",
      "                \n",
      "        \n",
      "    \n",
      "def main (X_train,Y_train, X_test, Y_test, shape, learning_rate, iterations, print_result = \"each\"):\n",
      "    weights = fit(X_train,Y_train,shape, learning_rate, iterations)\n",
      "    if print_result == \"each\":\n",
      "        print predict(X_test,Y_test,weights)\n",
      "    elif print_result == \"confusion\":\n",
      "        print confusion(X_test,Y_test, weights)\n",
      "    \n",
      "    "
     ],
     "language": "python",
     "metadata": {},
     "outputs": [],
     "prompt_number": 95
    },
    {
     "cell_type": "code",
     "collapsed": false,
     "input": [
      "a = np.zeros((10,10))\n",
      "a[2,2] +=1\n",
      "a[2,3] +=1\n",
      "print a.sum()\n",
      "print np.diagonal(a).sum()"
     ],
     "language": "python",
     "metadata": {},
     "outputs": [
      {
       "output_type": "stream",
       "stream": "stdout",
       "text": [
        "2.0\n",
        "1.0\n"
       ]
      }
     ],
     "prompt_number": 91
    },
    {
     "cell_type": "code",
     "collapsed": false,
     "input": [
      "from sklearn import datasets\n",
      "digits = datasets.load_digits()\n",
      "X =  digits.data\n",
      "Y = pd.get_dummies(digits.target).as_matrix()\n",
      "\n",
      "\n",
      "\n",
      "\n",
      "from sklearn.cross_validation import train_test_split\n",
      "X_train, X_test, Y_train, Y_test = train_test_split(X, Y, test_size=0.33, random_state=42)\n",
      "\n",
      "\n",
      "main(X_train,Y_train,X_test, Y_test, [64,20,20,10],.05,1000000, print_result = \"confusion\")"
     ],
     "language": "python",
     "metadata": {},
     "outputs": [
      {
       "output_type": "stream",
       "stream": "stdout",
       "text": [
        "epoch: 100000\n"
       ]
      },
      {
       "output_type": "stream",
       "stream": "stdout",
       "text": [
        "epoch: 200000\n"
       ]
      },
      {
       "output_type": "stream",
       "stream": "stdout",
       "text": [
        "epoch: 300000\n"
       ]
      },
      {
       "output_type": "stream",
       "stream": "stdout",
       "text": [
        "epoch: 400000\n"
       ]
      },
      {
       "output_type": "stream",
       "stream": "stdout",
       "text": [
        "epoch: 500000\n"
       ]
      },
      {
       "output_type": "stream",
       "stream": "stdout",
       "text": [
        "epoch: 600000\n"
       ]
      },
      {
       "output_type": "stream",
       "stream": "stdout",
       "text": [
        "epoch: 700000\n"
       ]
      },
      {
       "output_type": "stream",
       "stream": "stdout",
       "text": [
        "epoch: 800000\n"
       ]
      },
      {
       "output_type": "stream",
       "stream": "stdout",
       "text": [
        "epoch: 900000\n"
       ]
      },
      {
       "output_type": "stream",
       "stream": "stdout",
       "text": [
        "epoch: 1000000\n"
       ]
      },
      {
       "output_type": "stream",
       "stream": "stdout",
       "text": [
        "(array([[ 55.,   0.,   0.,   0.,   0.,   0.,   0.,   0.,   0.,   0.],\n",
        "       [  0.,  54.,   0.,   0.,   0.,   0.,   0.,   0.,   1.,   0.],\n",
        "       [  0.,   0.,  51.,   0.,   0.,   0.,   0.,   1.,   0.,   0.],\n",
        "       [  0.,   0.,   0.,  55.,   0.,   1.,   0.,   0.,   0.,   0.],\n",
        "       [  0.,   1.,   0.,   0.,  62.,   0.,   1.,   0.,   0.,   0.],\n",
        "       [  1.,   1.,   0.,   0.,   0.,  67.,   1.,   1.,   0.,   2.],\n",
        "       [  0.,   0.,   0.,   0.,   0.,   0.,  57.,   0.,   0.,   0.],\n",
        "       [  0.,   0.,   0.,   0.,   0.,   1.,   0.,  61.,   0.,   0.],\n",
        "       [  0.,   1.,   0.,   0.,   0.,   1.,   0.,   0.,  50.,   0.],\n",
        "       [  0.,   0.,   0.,   4.,   0.,   0.,   0.,   0.,   1.,  63.]]), (594.0, 575.0, 0.96801346801346799))\n"
       ]
      }
     ],
     "prompt_number": 97
    },
    {
     "cell_type": "code",
     "collapsed": false,
     "input": [
      "a = np.array([1,2,3,4])\n",
      "np.argmax(a)"
     ],
     "language": "python",
     "metadata": {},
     "outputs": [
      {
       "metadata": {},
       "output_type": "pyout",
       "prompt_number": 65,
       "text": [
        "3"
       ]
      }
     ],
     "prompt_number": 65
    },
    {
     "cell_type": "code",
     "collapsed": false,
     "input": [],
     "language": "python",
     "metadata": {},
     "outputs": []
    }
   ],
   "metadata": {}
  }
 ]
}